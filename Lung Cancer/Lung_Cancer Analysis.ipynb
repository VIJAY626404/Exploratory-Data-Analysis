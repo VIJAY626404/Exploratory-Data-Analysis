{
 "cells": [
  {
   "cell_type": "code",
   "execution_count": 1,
   "id": "0679d0f0-dfad-4931-861d-99b19fc9c514",
   "metadata": {},
   "outputs": [],
   "source": [
    "import numpy as np\n",
    "import pandas as pd\n",
    "import matplotlib.pyplot as plt\n",
    "import seaborn as sns\n",
    "\n",
    "import warnings\n",
    "warnings.filterwarnings('ignore')"
   ]
  },
  {
   "cell_type": "code",
   "execution_count": 2,
   "id": "d2bb1f59-5353-431b-a74e-07091a1b0afb",
   "metadata": {},
   "outputs": [
    {
     "data": {
      "text/html": [
       "<div>\n",
       "<style scoped>\n",
       "    .dataframe tbody tr th:only-of-type {\n",
       "        vertical-align: middle;\n",
       "    }\n",
       "\n",
       "    .dataframe tbody tr th {\n",
       "        vertical-align: top;\n",
       "    }\n",
       "\n",
       "    .dataframe thead th {\n",
       "        text-align: right;\n",
       "    }\n",
       "</style>\n",
       "<table border=\"1\" class=\"dataframe\">\n",
       "  <thead>\n",
       "    <tr style=\"text-align: right;\">\n",
       "      <th></th>\n",
       "      <th>GENDER</th>\n",
       "      <th>AGE</th>\n",
       "      <th>SMOKING</th>\n",
       "      <th>YELLOW_FINGERS</th>\n",
       "      <th>ANXIETY</th>\n",
       "      <th>PEER_PRESSURE</th>\n",
       "      <th>CHRONIC_DISEASE</th>\n",
       "      <th>FATIGUE</th>\n",
       "      <th>ALLERGY</th>\n",
       "      <th>WHEEZING</th>\n",
       "      <th>ALCOHOL_CONSUMING</th>\n",
       "      <th>COUGHING</th>\n",
       "      <th>SHORTNESS_OF_BREATH</th>\n",
       "      <th>SWALLOWING_DIFFICULTY</th>\n",
       "      <th>CHEST_PAIN</th>\n",
       "      <th>LUNG_CANCER</th>\n",
       "    </tr>\n",
       "  </thead>\n",
       "  <tbody>\n",
       "    <tr>\n",
       "      <th>0</th>\n",
       "      <td>M</td>\n",
       "      <td>65</td>\n",
       "      <td>1</td>\n",
       "      <td>1</td>\n",
       "      <td>1</td>\n",
       "      <td>2</td>\n",
       "      <td>2</td>\n",
       "      <td>1</td>\n",
       "      <td>2</td>\n",
       "      <td>2</td>\n",
       "      <td>2</td>\n",
       "      <td>2</td>\n",
       "      <td>2</td>\n",
       "      <td>2</td>\n",
       "      <td>1</td>\n",
       "      <td>NO</td>\n",
       "    </tr>\n",
       "    <tr>\n",
       "      <th>1</th>\n",
       "      <td>F</td>\n",
       "      <td>55</td>\n",
       "      <td>1</td>\n",
       "      <td>2</td>\n",
       "      <td>2</td>\n",
       "      <td>1</td>\n",
       "      <td>1</td>\n",
       "      <td>2</td>\n",
       "      <td>2</td>\n",
       "      <td>2</td>\n",
       "      <td>1</td>\n",
       "      <td>1</td>\n",
       "      <td>1</td>\n",
       "      <td>2</td>\n",
       "      <td>2</td>\n",
       "      <td>NO</td>\n",
       "    </tr>\n",
       "    <tr>\n",
       "      <th>2</th>\n",
       "      <td>F</td>\n",
       "      <td>78</td>\n",
       "      <td>2</td>\n",
       "      <td>2</td>\n",
       "      <td>1</td>\n",
       "      <td>1</td>\n",
       "      <td>1</td>\n",
       "      <td>2</td>\n",
       "      <td>1</td>\n",
       "      <td>2</td>\n",
       "      <td>1</td>\n",
       "      <td>1</td>\n",
       "      <td>2</td>\n",
       "      <td>1</td>\n",
       "      <td>1</td>\n",
       "      <td>YES</td>\n",
       "    </tr>\n",
       "    <tr>\n",
       "      <th>3</th>\n",
       "      <td>M</td>\n",
       "      <td>60</td>\n",
       "      <td>2</td>\n",
       "      <td>1</td>\n",
       "      <td>1</td>\n",
       "      <td>1</td>\n",
       "      <td>2</td>\n",
       "      <td>1</td>\n",
       "      <td>2</td>\n",
       "      <td>1</td>\n",
       "      <td>1</td>\n",
       "      <td>2</td>\n",
       "      <td>1</td>\n",
       "      <td>2</td>\n",
       "      <td>2</td>\n",
       "      <td>YES</td>\n",
       "    </tr>\n",
       "    <tr>\n",
       "      <th>4</th>\n",
       "      <td>F</td>\n",
       "      <td>80</td>\n",
       "      <td>1</td>\n",
       "      <td>1</td>\n",
       "      <td>2</td>\n",
       "      <td>1</td>\n",
       "      <td>1</td>\n",
       "      <td>2</td>\n",
       "      <td>1</td>\n",
       "      <td>2</td>\n",
       "      <td>1</td>\n",
       "      <td>1</td>\n",
       "      <td>1</td>\n",
       "      <td>1</td>\n",
       "      <td>2</td>\n",
       "      <td>NO</td>\n",
       "    </tr>\n",
       "    <tr>\n",
       "      <th>...</th>\n",
       "      <td>...</td>\n",
       "      <td>...</td>\n",
       "      <td>...</td>\n",
       "      <td>...</td>\n",
       "      <td>...</td>\n",
       "      <td>...</td>\n",
       "      <td>...</td>\n",
       "      <td>...</td>\n",
       "      <td>...</td>\n",
       "      <td>...</td>\n",
       "      <td>...</td>\n",
       "      <td>...</td>\n",
       "      <td>...</td>\n",
       "      <td>...</td>\n",
       "      <td>...</td>\n",
       "      <td>...</td>\n",
       "    </tr>\n",
       "    <tr>\n",
       "      <th>2995</th>\n",
       "      <td>F</td>\n",
       "      <td>71</td>\n",
       "      <td>2</td>\n",
       "      <td>1</td>\n",
       "      <td>1</td>\n",
       "      <td>2</td>\n",
       "      <td>2</td>\n",
       "      <td>1</td>\n",
       "      <td>1</td>\n",
       "      <td>1</td>\n",
       "      <td>1</td>\n",
       "      <td>2</td>\n",
       "      <td>1</td>\n",
       "      <td>1</td>\n",
       "      <td>2</td>\n",
       "      <td>NO</td>\n",
       "    </tr>\n",
       "    <tr>\n",
       "      <th>2996</th>\n",
       "      <td>F</td>\n",
       "      <td>75</td>\n",
       "      <td>1</td>\n",
       "      <td>2</td>\n",
       "      <td>1</td>\n",
       "      <td>1</td>\n",
       "      <td>1</td>\n",
       "      <td>2</td>\n",
       "      <td>2</td>\n",
       "      <td>2</td>\n",
       "      <td>2</td>\n",
       "      <td>1</td>\n",
       "      <td>1</td>\n",
       "      <td>2</td>\n",
       "      <td>1</td>\n",
       "      <td>NO</td>\n",
       "    </tr>\n",
       "    <tr>\n",
       "      <th>2997</th>\n",
       "      <td>F</td>\n",
       "      <td>62</td>\n",
       "      <td>2</td>\n",
       "      <td>2</td>\n",
       "      <td>2</td>\n",
       "      <td>1</td>\n",
       "      <td>2</td>\n",
       "      <td>2</td>\n",
       "      <td>2</td>\n",
       "      <td>2</td>\n",
       "      <td>1</td>\n",
       "      <td>1</td>\n",
       "      <td>2</td>\n",
       "      <td>2</td>\n",
       "      <td>2</td>\n",
       "      <td>YES</td>\n",
       "    </tr>\n",
       "    <tr>\n",
       "      <th>2998</th>\n",
       "      <td>M</td>\n",
       "      <td>30</td>\n",
       "      <td>1</td>\n",
       "      <td>1</td>\n",
       "      <td>2</td>\n",
       "      <td>2</td>\n",
       "      <td>2</td>\n",
       "      <td>2</td>\n",
       "      <td>2</td>\n",
       "      <td>2</td>\n",
       "      <td>2</td>\n",
       "      <td>1</td>\n",
       "      <td>2</td>\n",
       "      <td>1</td>\n",
       "      <td>2</td>\n",
       "      <td>YES</td>\n",
       "    </tr>\n",
       "    <tr>\n",
       "      <th>2999</th>\n",
       "      <td>M</td>\n",
       "      <td>40</td>\n",
       "      <td>1</td>\n",
       "      <td>2</td>\n",
       "      <td>2</td>\n",
       "      <td>1</td>\n",
       "      <td>1</td>\n",
       "      <td>1</td>\n",
       "      <td>2</td>\n",
       "      <td>2</td>\n",
       "      <td>2</td>\n",
       "      <td>1</td>\n",
       "      <td>1</td>\n",
       "      <td>1</td>\n",
       "      <td>1</td>\n",
       "      <td>YES</td>\n",
       "    </tr>\n",
       "  </tbody>\n",
       "</table>\n",
       "<p>3000 rows × 16 columns</p>\n",
       "</div>"
      ],
      "text/plain": [
       "     GENDER  AGE  SMOKING  YELLOW_FINGERS  ANXIETY  PEER_PRESSURE  \\\n",
       "0         M   65        1               1        1              2   \n",
       "1         F   55        1               2        2              1   \n",
       "2         F   78        2               2        1              1   \n",
       "3         M   60        2               1        1              1   \n",
       "4         F   80        1               1        2              1   \n",
       "...     ...  ...      ...             ...      ...            ...   \n",
       "2995      F   71        2               1        1              2   \n",
       "2996      F   75        1               2        1              1   \n",
       "2997      F   62        2               2        2              1   \n",
       "2998      M   30        1               1        2              2   \n",
       "2999      M   40        1               2        2              1   \n",
       "\n",
       "      CHRONIC_DISEASE  FATIGUE  ALLERGY  WHEEZING  ALCOHOL_CONSUMING  \\\n",
       "0                   2        1        2         2                  2   \n",
       "1                   1        2        2         2                  1   \n",
       "2                   1        2        1         2                  1   \n",
       "3                   2        1        2         1                  1   \n",
       "4                   1        2        1         2                  1   \n",
       "...               ...      ...      ...       ...                ...   \n",
       "2995                2        1        1         1                  1   \n",
       "2996                1        2        2         2                  2   \n",
       "2997                2        2        2         2                  1   \n",
       "2998                2        2        2         2                  2   \n",
       "2999                1        1        2         2                  2   \n",
       "\n",
       "      COUGHING  SHORTNESS_OF_BREATH  SWALLOWING_DIFFICULTY  CHEST_PAIN  \\\n",
       "0            2                    2                      2           1   \n",
       "1            1                    1                      2           2   \n",
       "2            1                    2                      1           1   \n",
       "3            2                    1                      2           2   \n",
       "4            1                    1                      1           2   \n",
       "...        ...                  ...                    ...         ...   \n",
       "2995         2                    1                      1           2   \n",
       "2996         1                    1                      2           1   \n",
       "2997         1                    2                      2           2   \n",
       "2998         1                    2                      1           2   \n",
       "2999         1                    1                      1           1   \n",
       "\n",
       "     LUNG_CANCER  \n",
       "0             NO  \n",
       "1             NO  \n",
       "2            YES  \n",
       "3            YES  \n",
       "4             NO  \n",
       "...          ...  \n",
       "2995          NO  \n",
       "2996          NO  \n",
       "2997         YES  \n",
       "2998         YES  \n",
       "2999         YES  \n",
       "\n",
       "[3000 rows x 16 columns]"
      ]
     },
     "execution_count": 2,
     "metadata": {},
     "output_type": "execute_result"
    }
   ],
   "source": [
    "df = pd.read_csv(\"dataset.csv\")\n",
    "df"
   ]
  },
  {
   "cell_type": "code",
   "execution_count": 3,
   "id": "a065fe24-8c29-4e37-a314-7564a6b0c612",
   "metadata": {},
   "outputs": [
    {
     "data": {
      "text/plain": [
       "Index(['GENDER', 'AGE', 'SMOKING', 'YELLOW_FINGERS', 'ANXIETY',\n",
       "       'PEER_PRESSURE', 'CHRONIC_DISEASE', 'FATIGUE', 'ALLERGY', 'WHEEZING',\n",
       "       'ALCOHOL_CONSUMING', 'COUGHING', 'SHORTNESS_OF_BREATH',\n",
       "       'SWALLOWING_DIFFICULTY', 'CHEST_PAIN', 'LUNG_CANCER'],\n",
       "      dtype='object')"
      ]
     },
     "execution_count": 3,
     "metadata": {},
     "output_type": "execute_result"
    }
   ],
   "source": [
    "df.columns"
   ]
  },
  {
   "cell_type": "markdown",
   "id": "11334392-9cd1-4f6b-b548-dade31b53b3b",
   "metadata": {},
   "source": [
    "# Checking Null Value"
   ]
  },
  {
   "cell_type": "code",
   "execution_count": 4,
   "id": "097617f9-c2c0-458b-b3e7-3adbb65648c5",
   "metadata": {},
   "outputs": [
    {
     "data": {
      "text/plain": [
       "GENDER                   0\n",
       "AGE                      0\n",
       "SMOKING                  0\n",
       "YELLOW_FINGERS           0\n",
       "ANXIETY                  0\n",
       "PEER_PRESSURE            0\n",
       "CHRONIC_DISEASE          0\n",
       "FATIGUE                  0\n",
       "ALLERGY                  0\n",
       "WHEEZING                 0\n",
       "ALCOHOL_CONSUMING        0\n",
       "COUGHING                 0\n",
       "SHORTNESS_OF_BREATH      0\n",
       "SWALLOWING_DIFFICULTY    0\n",
       "CHEST_PAIN               0\n",
       "LUNG_CANCER              0\n",
       "dtype: int64"
      ]
     },
     "execution_count": 4,
     "metadata": {},
     "output_type": "execute_result"
    }
   ],
   "source": [
    "df.isna().sum()"
   ]
  },
  {
   "cell_type": "code",
   "execution_count": 5,
   "id": "0b7ca638-a7c9-4841-a0fc-eab055ec656b",
   "metadata": {},
   "outputs": [
    {
     "data": {
      "text/plain": [
       "GENDER                   object\n",
       "AGE                       int64\n",
       "SMOKING                   int64\n",
       "YELLOW_FINGERS            int64\n",
       "ANXIETY                   int64\n",
       "PEER_PRESSURE             int64\n",
       "CHRONIC_DISEASE           int64\n",
       "FATIGUE                   int64\n",
       "ALLERGY                   int64\n",
       "WHEEZING                  int64\n",
       "ALCOHOL_CONSUMING         int64\n",
       "COUGHING                  int64\n",
       "SHORTNESS_OF_BREATH       int64\n",
       "SWALLOWING_DIFFICULTY     int64\n",
       "CHEST_PAIN                int64\n",
       "LUNG_CANCER              object\n",
       "dtype: object"
      ]
     },
     "execution_count": 5,
     "metadata": {},
     "output_type": "execute_result"
    }
   ],
   "source": [
    "df.dtypes"
   ]
  },
  {
   "cell_type": "code",
   "execution_count": 6,
   "id": "b7e7073f-023c-4fdc-a37f-bf25d2f0dda6",
   "metadata": {},
   "outputs": [
    {
     "data": {
      "text/plain": [
       "LUNG_CANCER\n",
       "YES    1518\n",
       "NO     1482\n",
       "Name: count, dtype: int64"
      ]
     },
     "execution_count": 6,
     "metadata": {},
     "output_type": "execute_result"
    }
   ],
   "source": [
    "df['LUNG_CANCER'].value_counts()"
   ]
  },
  {
   "cell_type": "markdown",
   "id": "e375ee35-2e7a-44b2-92ad-b21fa18013e8",
   "metadata": {},
   "source": [
    "Insights from above :\n",
    "1. 1518 people have lung cancer in above dataset and 1482 people which don't have lung cancer"
   ]
  },
  {
   "cell_type": "code",
   "execution_count": 7,
   "id": "dc7d3e9a-44db-41c7-8bee-e14b931233fe",
   "metadata": {},
   "outputs": [
    {
     "data": {
      "text/html": [
       "<div>\n",
       "<style scoped>\n",
       "    .dataframe tbody tr th:only-of-type {\n",
       "        vertical-align: middle;\n",
       "    }\n",
       "\n",
       "    .dataframe tbody tr th {\n",
       "        vertical-align: top;\n",
       "    }\n",
       "\n",
       "    .dataframe thead th {\n",
       "        text-align: right;\n",
       "    }\n",
       "</style>\n",
       "<table border=\"1\" class=\"dataframe\">\n",
       "  <thead>\n",
       "    <tr style=\"text-align: right;\">\n",
       "      <th></th>\n",
       "      <th>GENDER</th>\n",
       "      <th>AGE</th>\n",
       "      <th>SMOKING</th>\n",
       "      <th>YELLOW_FINGERS</th>\n",
       "      <th>ANXIETY</th>\n",
       "      <th>PEER_PRESSURE</th>\n",
       "      <th>CHRONIC_DISEASE</th>\n",
       "      <th>FATIGUE</th>\n",
       "      <th>ALLERGY</th>\n",
       "      <th>WHEEZING</th>\n",
       "      <th>ALCOHOL_CONSUMING</th>\n",
       "      <th>COUGHING</th>\n",
       "      <th>SHORTNESS_OF_BREATH</th>\n",
       "      <th>SWALLOWING_DIFFICULTY</th>\n",
       "      <th>CHEST_PAIN</th>\n",
       "      <th>LUNG_CANCER</th>\n",
       "    </tr>\n",
       "  </thead>\n",
       "  <tbody>\n",
       "    <tr>\n",
       "      <th>count</th>\n",
       "      <td>3000</td>\n",
       "      <td>3000.000000</td>\n",
       "      <td>3000.000000</td>\n",
       "      <td>3000.000000</td>\n",
       "      <td>3000.000000</td>\n",
       "      <td>3000.000000</td>\n",
       "      <td>3000.000000</td>\n",
       "      <td>3000.000000</td>\n",
       "      <td>3000.000000</td>\n",
       "      <td>3000.000000</td>\n",
       "      <td>3000.000000</td>\n",
       "      <td>3000.000000</td>\n",
       "      <td>3000.000000</td>\n",
       "      <td>3000.000000</td>\n",
       "      <td>3000.000000</td>\n",
       "      <td>3000</td>\n",
       "    </tr>\n",
       "    <tr>\n",
       "      <th>unique</th>\n",
       "      <td>2</td>\n",
       "      <td>NaN</td>\n",
       "      <td>NaN</td>\n",
       "      <td>NaN</td>\n",
       "      <td>NaN</td>\n",
       "      <td>NaN</td>\n",
       "      <td>NaN</td>\n",
       "      <td>NaN</td>\n",
       "      <td>NaN</td>\n",
       "      <td>NaN</td>\n",
       "      <td>NaN</td>\n",
       "      <td>NaN</td>\n",
       "      <td>NaN</td>\n",
       "      <td>NaN</td>\n",
       "      <td>NaN</td>\n",
       "      <td>2</td>\n",
       "    </tr>\n",
       "    <tr>\n",
       "      <th>top</th>\n",
       "      <td>M</td>\n",
       "      <td>NaN</td>\n",
       "      <td>NaN</td>\n",
       "      <td>NaN</td>\n",
       "      <td>NaN</td>\n",
       "      <td>NaN</td>\n",
       "      <td>NaN</td>\n",
       "      <td>NaN</td>\n",
       "      <td>NaN</td>\n",
       "      <td>NaN</td>\n",
       "      <td>NaN</td>\n",
       "      <td>NaN</td>\n",
       "      <td>NaN</td>\n",
       "      <td>NaN</td>\n",
       "      <td>NaN</td>\n",
       "      <td>YES</td>\n",
       "    </tr>\n",
       "    <tr>\n",
       "      <th>freq</th>\n",
       "      <td>1514</td>\n",
       "      <td>NaN</td>\n",
       "      <td>NaN</td>\n",
       "      <td>NaN</td>\n",
       "      <td>NaN</td>\n",
       "      <td>NaN</td>\n",
       "      <td>NaN</td>\n",
       "      <td>NaN</td>\n",
       "      <td>NaN</td>\n",
       "      <td>NaN</td>\n",
       "      <td>NaN</td>\n",
       "      <td>NaN</td>\n",
       "      <td>NaN</td>\n",
       "      <td>NaN</td>\n",
       "      <td>NaN</td>\n",
       "      <td>1518</td>\n",
       "    </tr>\n",
       "    <tr>\n",
       "      <th>mean</th>\n",
       "      <td>NaN</td>\n",
       "      <td>55.169000</td>\n",
       "      <td>1.491000</td>\n",
       "      <td>1.514000</td>\n",
       "      <td>1.494000</td>\n",
       "      <td>1.499000</td>\n",
       "      <td>1.509667</td>\n",
       "      <td>1.489667</td>\n",
       "      <td>1.506667</td>\n",
       "      <td>1.497333</td>\n",
       "      <td>1.491333</td>\n",
       "      <td>1.510667</td>\n",
       "      <td>1.488000</td>\n",
       "      <td>1.489667</td>\n",
       "      <td>1.498667</td>\n",
       "      <td>NaN</td>\n",
       "    </tr>\n",
       "    <tr>\n",
       "      <th>std</th>\n",
       "      <td>NaN</td>\n",
       "      <td>14.723746</td>\n",
       "      <td>0.500002</td>\n",
       "      <td>0.499887</td>\n",
       "      <td>0.500047</td>\n",
       "      <td>0.500082</td>\n",
       "      <td>0.499990</td>\n",
       "      <td>0.499977</td>\n",
       "      <td>0.500039</td>\n",
       "      <td>0.500076</td>\n",
       "      <td>0.500008</td>\n",
       "      <td>0.499970</td>\n",
       "      <td>0.499939</td>\n",
       "      <td>0.499977</td>\n",
       "      <td>0.500082</td>\n",
       "      <td>NaN</td>\n",
       "    </tr>\n",
       "    <tr>\n",
       "      <th>min</th>\n",
       "      <td>NaN</td>\n",
       "      <td>30.000000</td>\n",
       "      <td>1.000000</td>\n",
       "      <td>1.000000</td>\n",
       "      <td>1.000000</td>\n",
       "      <td>1.000000</td>\n",
       "      <td>1.000000</td>\n",
       "      <td>1.000000</td>\n",
       "      <td>1.000000</td>\n",
       "      <td>1.000000</td>\n",
       "      <td>1.000000</td>\n",
       "      <td>1.000000</td>\n",
       "      <td>1.000000</td>\n",
       "      <td>1.000000</td>\n",
       "      <td>1.000000</td>\n",
       "      <td>NaN</td>\n",
       "    </tr>\n",
       "    <tr>\n",
       "      <th>25%</th>\n",
       "      <td>NaN</td>\n",
       "      <td>42.000000</td>\n",
       "      <td>1.000000</td>\n",
       "      <td>1.000000</td>\n",
       "      <td>1.000000</td>\n",
       "      <td>1.000000</td>\n",
       "      <td>1.000000</td>\n",
       "      <td>1.000000</td>\n",
       "      <td>1.000000</td>\n",
       "      <td>1.000000</td>\n",
       "      <td>1.000000</td>\n",
       "      <td>1.000000</td>\n",
       "      <td>1.000000</td>\n",
       "      <td>1.000000</td>\n",
       "      <td>1.000000</td>\n",
       "      <td>NaN</td>\n",
       "    </tr>\n",
       "    <tr>\n",
       "      <th>50%</th>\n",
       "      <td>NaN</td>\n",
       "      <td>55.000000</td>\n",
       "      <td>1.000000</td>\n",
       "      <td>2.000000</td>\n",
       "      <td>1.000000</td>\n",
       "      <td>1.000000</td>\n",
       "      <td>2.000000</td>\n",
       "      <td>1.000000</td>\n",
       "      <td>2.000000</td>\n",
       "      <td>1.000000</td>\n",
       "      <td>1.000000</td>\n",
       "      <td>2.000000</td>\n",
       "      <td>1.000000</td>\n",
       "      <td>1.000000</td>\n",
       "      <td>1.000000</td>\n",
       "      <td>NaN</td>\n",
       "    </tr>\n",
       "    <tr>\n",
       "      <th>75%</th>\n",
       "      <td>NaN</td>\n",
       "      <td>68.000000</td>\n",
       "      <td>2.000000</td>\n",
       "      <td>2.000000</td>\n",
       "      <td>2.000000</td>\n",
       "      <td>2.000000</td>\n",
       "      <td>2.000000</td>\n",
       "      <td>2.000000</td>\n",
       "      <td>2.000000</td>\n",
       "      <td>2.000000</td>\n",
       "      <td>2.000000</td>\n",
       "      <td>2.000000</td>\n",
       "      <td>2.000000</td>\n",
       "      <td>2.000000</td>\n",
       "      <td>2.000000</td>\n",
       "      <td>NaN</td>\n",
       "    </tr>\n",
       "    <tr>\n",
       "      <th>max</th>\n",
       "      <td>NaN</td>\n",
       "      <td>80.000000</td>\n",
       "      <td>2.000000</td>\n",
       "      <td>2.000000</td>\n",
       "      <td>2.000000</td>\n",
       "      <td>2.000000</td>\n",
       "      <td>2.000000</td>\n",
       "      <td>2.000000</td>\n",
       "      <td>2.000000</td>\n",
       "      <td>2.000000</td>\n",
       "      <td>2.000000</td>\n",
       "      <td>2.000000</td>\n",
       "      <td>2.000000</td>\n",
       "      <td>2.000000</td>\n",
       "      <td>2.000000</td>\n",
       "      <td>NaN</td>\n",
       "    </tr>\n",
       "  </tbody>\n",
       "</table>\n",
       "</div>"
      ],
      "text/plain": [
       "       GENDER          AGE      SMOKING  YELLOW_FINGERS      ANXIETY  \\\n",
       "count    3000  3000.000000  3000.000000     3000.000000  3000.000000   \n",
       "unique      2          NaN          NaN             NaN          NaN   \n",
       "top         M          NaN          NaN             NaN          NaN   \n",
       "freq     1514          NaN          NaN             NaN          NaN   \n",
       "mean      NaN    55.169000     1.491000        1.514000     1.494000   \n",
       "std       NaN    14.723746     0.500002        0.499887     0.500047   \n",
       "min       NaN    30.000000     1.000000        1.000000     1.000000   \n",
       "25%       NaN    42.000000     1.000000        1.000000     1.000000   \n",
       "50%       NaN    55.000000     1.000000        2.000000     1.000000   \n",
       "75%       NaN    68.000000     2.000000        2.000000     2.000000   \n",
       "max       NaN    80.000000     2.000000        2.000000     2.000000   \n",
       "\n",
       "        PEER_PRESSURE  CHRONIC_DISEASE      FATIGUE      ALLERGY     WHEEZING  \\\n",
       "count     3000.000000      3000.000000  3000.000000  3000.000000  3000.000000   \n",
       "unique            NaN              NaN          NaN          NaN          NaN   \n",
       "top               NaN              NaN          NaN          NaN          NaN   \n",
       "freq              NaN              NaN          NaN          NaN          NaN   \n",
       "mean         1.499000         1.509667     1.489667     1.506667     1.497333   \n",
       "std          0.500082         0.499990     0.499977     0.500039     0.500076   \n",
       "min          1.000000         1.000000     1.000000     1.000000     1.000000   \n",
       "25%          1.000000         1.000000     1.000000     1.000000     1.000000   \n",
       "50%          1.000000         2.000000     1.000000     2.000000     1.000000   \n",
       "75%          2.000000         2.000000     2.000000     2.000000     2.000000   \n",
       "max          2.000000         2.000000     2.000000     2.000000     2.000000   \n",
       "\n",
       "        ALCOHOL_CONSUMING     COUGHING  SHORTNESS_OF_BREATH  \\\n",
       "count         3000.000000  3000.000000          3000.000000   \n",
       "unique                NaN          NaN                  NaN   \n",
       "top                   NaN          NaN                  NaN   \n",
       "freq                  NaN          NaN                  NaN   \n",
       "mean             1.491333     1.510667             1.488000   \n",
       "std              0.500008     0.499970             0.499939   \n",
       "min              1.000000     1.000000             1.000000   \n",
       "25%              1.000000     1.000000             1.000000   \n",
       "50%              1.000000     2.000000             1.000000   \n",
       "75%              2.000000     2.000000             2.000000   \n",
       "max              2.000000     2.000000             2.000000   \n",
       "\n",
       "        SWALLOWING_DIFFICULTY   CHEST_PAIN LUNG_CANCER  \n",
       "count             3000.000000  3000.000000        3000  \n",
       "unique                    NaN          NaN           2  \n",
       "top                       NaN          NaN         YES  \n",
       "freq                      NaN          NaN        1518  \n",
       "mean                 1.489667     1.498667         NaN  \n",
       "std                  0.499977     0.500082         NaN  \n",
       "min                  1.000000     1.000000         NaN  \n",
       "25%                  1.000000     1.000000         NaN  \n",
       "50%                  1.000000     1.000000         NaN  \n",
       "75%                  2.000000     2.000000         NaN  \n",
       "max                  2.000000     2.000000         NaN  "
      ]
     },
     "execution_count": 7,
     "metadata": {},
     "output_type": "execute_result"
    }
   ],
   "source": [
    "df.describe(include='all')"
   ]
  },
  {
   "cell_type": "code",
   "execution_count": 8,
   "id": "c5bf1f65-2933-467d-a72d-de7f002ad76d",
   "metadata": {},
   "outputs": [
    {
     "data": {
      "text/plain": [
       "0       2\n",
       "1       1\n",
       "2       1\n",
       "3       1\n",
       "4       1\n",
       "       ..\n",
       "2995    1\n",
       "2996    2\n",
       "2997    1\n",
       "2998    2\n",
       "2999    2\n",
       "Name: ALCOHOL_CONSUMING, Length: 3000, dtype: int64"
      ]
     },
     "execution_count": 8,
     "metadata": {},
     "output_type": "execute_result"
    }
   ],
   "source": [
    "df['ALCOHOL_CONSUMING']"
   ]
  },
  {
   "cell_type": "code",
   "execution_count": 9,
   "id": "98fa8144-e017-4369-a5a5-e7bb67fe923e",
   "metadata": {},
   "outputs": [
    {
     "data": {
      "text/plain": [
       "<Axes: xlabel='AGE', ylabel='LUNG_CANCER'>"
      ]
     },
     "execution_count": 9,
     "metadata": {},
     "output_type": "execute_result"
    },
    {
     "data": {
      "image/png": "[encoded data removed]",
      "text/plain": [
       "<Figure size 640x480 with 1 Axes>"
      ]
     },
     "metadata": {},
     "output_type": "display_data"
    }
   ],
   "source": [
    "sns.lineplot(data =df,x= 'AGE',y = 'LUNG_CANCER',legend=False)"
   ]
  },
  {
   "cell_type": "code",
   "execution_count": 10,
   "id": "c8778d5c-3fc5-4bf6-aa5a-e631f826bde3",
   "metadata": {},
   "outputs": [
    {
     "data": {
      "text/html": [
       "<div>\n",
       "<style scoped>\n",
       "    .dataframe tbody tr th:only-of-type {\n",
       "        vertical-align: middle;\n",
       "    }\n",
       "\n",
       "    .dataframe tbody tr th {\n",
       "        vertical-align: top;\n",
       "    }\n",
       "\n",
       "    .dataframe thead th {\n",
       "        text-align: right;\n",
       "    }\n",
       "</style>\n",
       "<table border=\"1\" class=\"dataframe\">\n",
       "  <thead>\n",
       "    <tr style=\"text-align: right;\">\n",
       "      <th>LUNG_CANCER</th>\n",
       "      <th>NO</th>\n",
       "      <th>YES</th>\n",
       "    </tr>\n",
       "    <tr>\n",
       "      <th>GENDER</th>\n",
       "      <th></th>\n",
       "      <th></th>\n",
       "    </tr>\n",
       "  </thead>\n",
       "  <tbody>\n",
       "    <tr>\n",
       "      <th>F</th>\n",
       "      <td>722</td>\n",
       "      <td>764</td>\n",
       "    </tr>\n",
       "    <tr>\n",
       "      <th>M</th>\n",
       "      <td>760</td>\n",
       "      <td>754</td>\n",
       "    </tr>\n",
       "  </tbody>\n",
       "</table>\n",
       "</div>"
      ],
      "text/plain": [
       "LUNG_CANCER   NO  YES\n",
       "GENDER               \n",
       "F            722  764\n",
       "M            760  754"
      ]
     },
     "execution_count": 10,
     "metadata": {},
     "output_type": "execute_result"
    }
   ],
   "source": [
    "pd.crosstab(df['GENDER'], df['LUNG_CANCER'])"
   ]
  },
  {
   "cell_type": "code",
   "execution_count": 11,
   "id": "eee451e1-bcf0-40dd-838e-b37c89e0a2a5",
   "metadata": {},
   "outputs": [
    {
     "data": {
      "image/png": "[encoded data removed]",
      "text/plain": [
       "<Figure size 640x480 with 1 Axes>"
      ]
     },
     "metadata": {},
     "output_type": "display_data"
    }
   ],
   "source": [
    "# Bar plot showing relationship between GENDER and LUNG_CANCER\n",
    "sns.countplot(data=df, x='GENDER', hue='LUNG_CANCER')\n",
    "plt.show()"
   ]
  },
  {
   "cell_type": "markdown",
   "id": "16cf80d0-232a-4686-be85-848ec41ea252",
   "metadata": {},
   "source": [
    "# Convert Numerical Values to Categorical"
   ]
  },
  {
   "cell_type": "code",
   "execution_count": 12,
   "id": "4e515e81-a171-42c0-b0ce-3d7d60c02dd8",
   "metadata": {},
   "outputs": [],
   "source": [
    "# Define the mapping\n",
    "mapping = {\n",
    "    1: 'No',\n",
    "    2: 'Yes'\n",
    "}\n",
    "\n",
    "# Apply the mapping to relevant columns\n",
    "categorical_columns = [\n",
    "    'SMOKING', 'YELLOW_FINGERS', 'ANXIETY', 'PEER_PRESSURE', \n",
    "    'CHRONIC_DISEASE', 'FATIGUE', 'ALLERGY', 'WHEEZING', \n",
    "    'ALCOHOL_CONSUMING', 'COUGHING', 'SHORTNESS_OF_BREATH', \n",
    "    'SWALLOWING_DIFFICULTY', 'CHEST_PAIN'\n",
    "]\n",
    "\n",
    "for column in categorical_columns:\n",
    "    df[column] = df[column].replace(mapping)\n",
    "\n"
   ]
  },
  {
   "cell_type": "code",
   "execution_count": 13,
   "id": "e1a545ac-bb13-47e1-8022-98319c14c49c",
   "metadata": {},
   "outputs": [
    {
     "data": {
      "text/html": [
       "<div>\n",
       "<style scoped>\n",
       "    .dataframe tbody tr th:only-of-type {\n",
       "        vertical-align: middle;\n",
       "    }\n",
       "\n",
       "    .dataframe tbody tr th {\n",
       "        vertical-align: top;\n",
       "    }\n",
       "\n",
       "    .dataframe thead th {\n",
       "        text-align: right;\n",
       "    }\n",
       "</style>\n",
       "<table border=\"1\" class=\"dataframe\">\n",
       "  <thead>\n",
       "    <tr style=\"text-align: right;\">\n",
       "      <th></th>\n",
       "      <th>GENDER</th>\n",
       "      <th>AGE</th>\n",
       "      <th>SMOKING</th>\n",
       "      <th>YELLOW_FINGERS</th>\n",
       "      <th>ANXIETY</th>\n",
       "      <th>PEER_PRESSURE</th>\n",
       "      <th>CHRONIC_DISEASE</th>\n",
       "      <th>FATIGUE</th>\n",
       "      <th>ALLERGY</th>\n",
       "      <th>WHEEZING</th>\n",
       "      <th>ALCOHOL_CONSUMING</th>\n",
       "      <th>COUGHING</th>\n",
       "      <th>SHORTNESS_OF_BREATH</th>\n",
       "      <th>SWALLOWING_DIFFICULTY</th>\n",
       "      <th>CHEST_PAIN</th>\n",
       "      <th>LUNG_CANCER</th>\n",
       "    </tr>\n",
       "  </thead>\n",
       "  <tbody>\n",
       "    <tr>\n",
       "      <th>0</th>\n",
       "      <td>M</td>\n",
       "      <td>65</td>\n",
       "      <td>No</td>\n",
       "      <td>No</td>\n",
       "      <td>No</td>\n",
       "      <td>Yes</td>\n",
       "      <td>Yes</td>\n",
       "      <td>No</td>\n",
       "      <td>Yes</td>\n",
       "      <td>Yes</td>\n",
       "      <td>Yes</td>\n",
       "      <td>Yes</td>\n",
       "      <td>Yes</td>\n",
       "      <td>Yes</td>\n",
       "      <td>No</td>\n",
       "      <td>NO</td>\n",
       "    </tr>\n",
       "    <tr>\n",
       "      <th>1</th>\n",
       "      <td>F</td>\n",
       "      <td>55</td>\n",
       "      <td>No</td>\n",
       "      <td>Yes</td>\n",
       "      <td>Yes</td>\n",
       "      <td>No</td>\n",
       "      <td>No</td>\n",
       "      <td>Yes</td>\n",
       "      <td>Yes</td>\n",
       "      <td>Yes</td>\n",
       "      <td>No</td>\n",
       "      <td>No</td>\n",
       "      <td>No</td>\n",
       "      <td>Yes</td>\n",
       "      <td>Yes</td>\n",
       "      <td>NO</td>\n",
       "    </tr>\n",
       "    <tr>\n",
       "      <th>2</th>\n",
       "      <td>F</td>\n",
       "      <td>78</td>\n",
       "      <td>Yes</td>\n",
       "      <td>Yes</td>\n",
       "      <td>No</td>\n",
       "      <td>No</td>\n",
       "      <td>No</td>\n",
       "      <td>Yes</td>\n",
       "      <td>No</td>\n",
       "      <td>Yes</td>\n",
       "      <td>No</td>\n",
       "      <td>No</td>\n",
       "      <td>Yes</td>\n",
       "      <td>No</td>\n",
       "      <td>No</td>\n",
       "      <td>YES</td>\n",
       "    </tr>\n",
       "    <tr>\n",
       "      <th>3</th>\n",
       "      <td>M</td>\n",
       "      <td>60</td>\n",
       "      <td>Yes</td>\n",
       "      <td>No</td>\n",
       "      <td>No</td>\n",
       "      <td>No</td>\n",
       "      <td>Yes</td>\n",
       "      <td>No</td>\n",
       "      <td>Yes</td>\n",
       "      <td>No</td>\n",
       "      <td>No</td>\n",
       "      <td>Yes</td>\n",
       "      <td>No</td>\n",
       "      <td>Yes</td>\n",
       "      <td>Yes</td>\n",
       "      <td>YES</td>\n",
       "    </tr>\n",
       "    <tr>\n",
       "      <th>4</th>\n",
       "      <td>F</td>\n",
       "      <td>80</td>\n",
       "      <td>No</td>\n",
       "      <td>No</td>\n",
       "      <td>Yes</td>\n",
       "      <td>No</td>\n",
       "      <td>No</td>\n",
       "      <td>Yes</td>\n",
       "      <td>No</td>\n",
       "      <td>Yes</td>\n",
       "      <td>No</td>\n",
       "      <td>No</td>\n",
       "      <td>No</td>\n",
       "      <td>No</td>\n",
       "      <td>Yes</td>\n",
       "      <td>NO</td>\n",
       "    </tr>\n",
       "    <tr>\n",
       "      <th>...</th>\n",
       "      <td>...</td>\n",
       "      <td>...</td>\n",
       "      <td>...</td>\n",
       "      <td>...</td>\n",
       "      <td>...</td>\n",
       "      <td>...</td>\n",
       "      <td>...</td>\n",
       "      <td>...</td>\n",
       "      <td>...</td>\n",
       "      <td>...</td>\n",
       "      <td>...</td>\n",
       "      <td>...</td>\n",
       "      <td>...</td>\n",
       "      <td>...</td>\n",
       "      <td>...</td>\n",
       "      <td>...</td>\n",
       "    </tr>\n",
       "    <tr>\n",
       "      <th>2995</th>\n",
       "      <td>F</td>\n",
       "      <td>71</td>\n",
       "      <td>Yes</td>\n",
       "      <td>No</td>\n",
       "      <td>No</td>\n",
       "      <td>Yes</td>\n",
       "      <td>Yes</td>\n",
       "      <td>No</td>\n",
       "      <td>No</td>\n",
       "      <td>No</td>\n",
       "      <td>No</td>\n",
       "      <td>Yes</td>\n",
       "      <td>No</td>\n",
       "      <td>No</td>\n",
       "      <td>Yes</td>\n",
       "      <td>NO</td>\n",
       "    </tr>\n",
       "    <tr>\n",
       "      <th>2996</th>\n",
       "      <td>F</td>\n",
       "      <td>75</td>\n",
       "      <td>No</td>\n",
       "      <td>Yes</td>\n",
       "      <td>No</td>\n",
       "      <td>No</td>\n",
       "      <td>No</td>\n",
       "      <td>Yes</td>\n",
       "      <td>Yes</td>\n",
       "      <td>Yes</td>\n",
       "      <td>Yes</td>\n",
       "      <td>No</td>\n",
       "      <td>No</td>\n",
       "      <td>Yes</td>\n",
       "      <td>No</td>\n",
       "      <td>NO</td>\n",
       "    </tr>\n",
       "    <tr>\n",
       "      <th>2997</th>\n",
       "      <td>F</td>\n",
       "      <td>62</td>\n",
       "      <td>Yes</td>\n",
       "      <td>Yes</td>\n",
       "      <td>Yes</td>\n",
       "      <td>No</td>\n",
       "      <td>Yes</td>\n",
       "      <td>Yes</td>\n",
       "      <td>Yes</td>\n",
       "      <td>Yes</td>\n",
       "      <td>No</td>\n",
       "      <td>No</td>\n",
       "      <td>Yes</td>\n",
       "      <td>Yes</td>\n",
       "      <td>Yes</td>\n",
       "      <td>YES</td>\n",
       "    </tr>\n",
       "    <tr>\n",
       "      <th>2998</th>\n",
       "      <td>M</td>\n",
       "      <td>30</td>\n",
       "      <td>No</td>\n",
       "      <td>No</td>\n",
       "      <td>Yes</td>\n",
       "      <td>Yes</td>\n",
       "      <td>Yes</td>\n",
       "      <td>Yes</td>\n",
       "      <td>Yes</td>\n",
       "      <td>Yes</td>\n",
       "      <td>Yes</td>\n",
       "      <td>No</td>\n",
       "      <td>Yes</td>\n",
       "      <td>No</td>\n",
       "      <td>Yes</td>\n",
       "      <td>YES</td>\n",
       "    </tr>\n",
       "    <tr>\n",
       "      <th>2999</th>\n",
       "      <td>M</td>\n",
       "      <td>40</td>\n",
       "      <td>No</td>\n",
       "      <td>Yes</td>\n",
       "      <td>Yes</td>\n",
       "      <td>No</td>\n",
       "      <td>No</td>\n",
       "      <td>No</td>\n",
       "      <td>Yes</td>\n",
       "      <td>Yes</td>\n",
       "      <td>Yes</td>\n",
       "      <td>No</td>\n",
       "      <td>No</td>\n",
       "      <td>No</td>\n",
       "      <td>No</td>\n",
       "      <td>YES</td>\n",
       "    </tr>\n",
       "  </tbody>\n",
       "</table>\n",
       "<p>3000 rows × 16 columns</p>\n",
       "</div>"
      ],
      "text/plain": [
       "     GENDER  AGE SMOKING YELLOW_FINGERS ANXIETY PEER_PRESSURE CHRONIC_DISEASE  \\\n",
       "0         M   65      No             No      No           Yes             Yes   \n",
       "1         F   55      No            Yes     Yes            No              No   \n",
       "2         F   78     Yes            Yes      No            No              No   \n",
       "3         M   60     Yes             No      No            No             Yes   \n",
       "4         F   80      No             No     Yes            No              No   \n",
       "...     ...  ...     ...            ...     ...           ...             ...   \n",
       "2995      F   71     Yes             No      No           Yes             Yes   \n",
       "2996      F   75      No            Yes      No            No              No   \n",
       "2997      F   62     Yes            Yes     Yes            No             Yes   \n",
       "2998      M   30      No             No     Yes           Yes             Yes   \n",
       "2999      M   40      No            Yes     Yes            No              No   \n",
       "\n",
       "     FATIGUE ALLERGY WHEEZING ALCOHOL_CONSUMING COUGHING SHORTNESS_OF_BREATH  \\\n",
       "0         No     Yes      Yes               Yes      Yes                 Yes   \n",
       "1        Yes     Yes      Yes                No       No                  No   \n",
       "2        Yes      No      Yes                No       No                 Yes   \n",
       "3         No     Yes       No                No      Yes                  No   \n",
       "4        Yes      No      Yes                No       No                  No   \n",
       "...      ...     ...      ...               ...      ...                 ...   \n",
       "2995      No      No       No                No      Yes                  No   \n",
       "2996     Yes     Yes      Yes               Yes       No                  No   \n",
       "2997     Yes     Yes      Yes                No       No                 Yes   \n",
       "2998     Yes     Yes      Yes               Yes       No                 Yes   \n",
       "2999      No     Yes      Yes               Yes       No                  No   \n",
       "\n",
       "     SWALLOWING_DIFFICULTY CHEST_PAIN LUNG_CANCER  \n",
       "0                      Yes         No          NO  \n",
       "1                      Yes        Yes          NO  \n",
       "2                       No         No         YES  \n",
       "3                      Yes        Yes         YES  \n",
       "4                       No        Yes          NO  \n",
       "...                    ...        ...         ...  \n",
       "2995                    No        Yes          NO  \n",
       "2996                   Yes         No          NO  \n",
       "2997                   Yes        Yes         YES  \n",
       "2998                    No        Yes         YES  \n",
       "2999                    No         No         YES  \n",
       "\n",
       "[3000 rows x 16 columns]"
      ]
     },
     "execution_count": 13,
     "metadata": {},
     "output_type": "execute_result"
    }
   ],
   "source": [
    "df"
   ]
  },
  {
   "cell_type": "code",
   "execution_count": 14,
   "id": "dcc34999-b590-48dc-9127-3bf5c26366b5",
   "metadata": {},
   "outputs": [
    {
     "data": {
      "text/html": [
       "<div>\n",
       "<style scoped>\n",
       "    .dataframe tbody tr th:only-of-type {\n",
       "        vertical-align: middle;\n",
       "    }\n",
       "\n",
       "    .dataframe tbody tr th {\n",
       "        vertical-align: top;\n",
       "    }\n",
       "\n",
       "    .dataframe thead th {\n",
       "        text-align: right;\n",
       "    }\n",
       "</style>\n",
       "<table border=\"1\" class=\"dataframe\">\n",
       "  <thead>\n",
       "    <tr style=\"text-align: right;\">\n",
       "      <th></th>\n",
       "      <th>AGE</th>\n",
       "    </tr>\n",
       "  </thead>\n",
       "  <tbody>\n",
       "    <tr>\n",
       "      <th>count</th>\n",
       "      <td>3000.000000</td>\n",
       "    </tr>\n",
       "    <tr>\n",
       "      <th>mean</th>\n",
       "      <td>55.169000</td>\n",
       "    </tr>\n",
       "    <tr>\n",
       "      <th>std</th>\n",
       "      <td>14.723746</td>\n",
       "    </tr>\n",
       "    <tr>\n",
       "      <th>min</th>\n",
       "      <td>30.000000</td>\n",
       "    </tr>\n",
       "    <tr>\n",
       "      <th>25%</th>\n",
       "      <td>42.000000</td>\n",
       "    </tr>\n",
       "    <tr>\n",
       "      <th>50%</th>\n",
       "      <td>55.000000</td>\n",
       "    </tr>\n",
       "    <tr>\n",
       "      <th>75%</th>\n",
       "      <td>68.000000</td>\n",
       "    </tr>\n",
       "    <tr>\n",
       "      <th>max</th>\n",
       "      <td>80.000000</td>\n",
       "    </tr>\n",
       "  </tbody>\n",
       "</table>\n",
       "</div>"
      ],
      "text/plain": [
       "               AGE\n",
       "count  3000.000000\n",
       "mean     55.169000\n",
       "std      14.723746\n",
       "min      30.000000\n",
       "25%      42.000000\n",
       "50%      55.000000\n",
       "75%      68.000000\n",
       "max      80.000000"
      ]
     },
     "execution_count": 14,
     "metadata": {},
     "output_type": "execute_result"
    }
   ],
   "source": [
    "df.describe()"
   ]
  },
  {
   "cell_type": "markdown",
   "id": "84bdd8af-9b86-43aa-8b66-d521058d3fa7",
   "metadata": {},
   "source": [
    "# Basic Data Exploration"
   ]
  },
  {
   "cell_type": "markdown",
   "id": "d1bf6b64-114e-407b-87e7-5ccecbf8a720",
   "metadata": {},
   "source": [
    "# Problem 1: How many instances of lung cancer are present in the dataset? Calculate the percentage of individuals with lung cancer."
   ]
  },
  {
   "cell_type": "code",
   "execution_count": 15,
   "id": "a43b4d78-1c46-48ef-a6c8-0fdca6518ee1",
   "metadata": {},
   "outputs": [
    {
     "data": {
      "text/plain": [
       "LUNG_CANCER\n",
       "YES    1518\n",
       "NO     1482\n",
       "Name: count, dtype: int64"
      ]
     },
     "execution_count": 15,
     "metadata": {},
     "output_type": "execute_result"
    }
   ],
   "source": [
    "df['LUNG_CANCER'].value_counts()"
   ]
  },
  {
   "cell_type": "code",
   "execution_count": 16,
   "id": "1cb00f2c-6bfa-4b29-ad91-9f0fd1f152bd",
   "metadata": {},
   "outputs": [
    {
     "data": {
      "text/plain": [
       "LUNG_CANCER\n",
       "YES    50.6\n",
       "NO     49.4\n",
       "Name: proportion, dtype: float64"
      ]
     },
     "execution_count": 16,
     "metadata": {},
     "output_type": "execute_result"
    }
   ],
   "source": [
    "df['LUNG_CANCER'].value_counts(normalize=True)*100"
   ]
  },
  {
   "cell_type": "markdown",
   "id": "873386b9-df08-4808-b9d8-19d44a0e3f50",
   "metadata": {},
   "source": [
    "Insight from above:\n",
    "1. approximately 50.6% people have lung cancer and 49.4% people don't have lung cancer."
   ]
  },
  {
   "cell_type": "markdown",
   "id": "ccbeee96-941e-47f4-8c61-2196b3ac8c09",
   "metadata": {},
   "source": [
    "# Problem 2: What is the distribution of gender in the dataset? Calculate the percentage of males and females."
   ]
  },
  {
   "cell_type": "code",
   "execution_count": 17,
   "id": "abf72e9f-2350-4859-b03b-4f2925cc62c5",
   "metadata": {},
   "outputs": [
    {
     "data": {
      "text/plain": [
       "GENDER\n",
       "M    1514\n",
       "F    1486\n",
       "Name: count, dtype: int64"
      ]
     },
     "execution_count": 17,
     "metadata": {},
     "output_type": "execute_result"
    }
   ],
   "source": [
    "df['GENDER'].value_counts()"
   ]
  },
  {
   "cell_type": "code",
   "execution_count": 18,
   "id": "b6c5dd86-21ff-47de-83b7-c78297c8fd9f",
   "metadata": {},
   "outputs": [
    {
     "data": {
      "text/plain": [
       "GENDER\n",
       "M    0.504667\n",
       "F    0.495333\n",
       "Name: proportion, dtype: float64"
      ]
     },
     "execution_count": 18,
     "metadata": {},
     "output_type": "execute_result"
    }
   ],
   "source": [
    "df['GENDER'].value_counts(normalize=True)"
   ]
  },
  {
   "cell_type": "markdown",
   "id": "3330ada9-31c5-4213-9d89-220895eecc24",
   "metadata": {},
   "source": [
    "Insight from above:\n",
    "1. distribution of male in abve dataset is: 50.45%\n",
    "2. distrubution of female in above dataset is: 49.5%"
   ]
  },
  {
   "cell_type": "markdown",
   "id": "30db4c85-fb5a-4db9-b1a5-362cf382f1b2",
   "metadata": {},
   "source": [
    "# Problem 3: Are there any missing values in the dataset? If yes, identify the columns with missing values and the number of missing entries."
   ]
  },
  {
   "cell_type": "code",
   "execution_count": 19,
   "id": "59b4225e-ff0c-44fc-866c-7c182481d2bf",
   "metadata": {},
   "outputs": [
    {
     "data": {
      "text/plain": [
       "GENDER                   0\n",
       "AGE                      0\n",
       "SMOKING                  0\n",
       "YELLOW_FINGERS           0\n",
       "ANXIETY                  0\n",
       "PEER_PRESSURE            0\n",
       "CHRONIC_DISEASE          0\n",
       "FATIGUE                  0\n",
       "ALLERGY                  0\n",
       "WHEEZING                 0\n",
       "ALCOHOL_CONSUMING        0\n",
       "COUGHING                 0\n",
       "SHORTNESS_OF_BREATH      0\n",
       "SWALLOWING_DIFFICULTY    0\n",
       "CHEST_PAIN               0\n",
       "LUNG_CANCER              0\n",
       "dtype: int64"
      ]
     },
     "execution_count": 19,
     "metadata": {},
     "output_type": "execute_result"
    }
   ],
   "source": [
    "df.isna().sum()\n",
    "# no missing value"
   ]
  },
  {
   "cell_type": "markdown",
   "id": "761d87b3-3752-4956-9d7b-3f2c8e0b8863",
   "metadata": {},
   "source": [
    "# Analyzing Relationships"
   ]
  },
  {
   "cell_type": "markdown",
   "id": "ed4920ef-5c1e-4c11-ae13-4a4dc4af8cc8",
   "metadata": {},
   "source": [
    "\n",
    "# Problem 4. : Create a bar plot to visualize the relationship between smoking (SMOKING) and lung cancer (LUNG_CANCER). What insights can you draw from this plot?"
   ]
  },
  {
   "cell_type": "code",
   "execution_count": 20,
   "id": "dd1f4cd4-9fe9-4ed4-874a-8eed9bf4d6e4",
   "metadata": {},
   "outputs": [
    {
     "data": {
      "text/plain": [
       "<Axes: title={'center': 'Relation Between SMOKING and LUNG_CANCER'}, xlabel='SMOKING'>"
      ]
     },
     "execution_count": 20,
     "metadata": {},
     "output_type": "execute_result"
    },
    {
     "data": {
      "image/png": "[encoded data removed]",
      "text/plain": [
       "<Figure size 640x480 with 1 Axes>"
      ]
     },
     "metadata": {},
     "output_type": "display_data"
    }
   ],
   "source": [
    "plt.title('Relation Between SMOKING and LUNG_CANCER')\n",
    "sns.barplot(data=df,x='SMOKING',hue='LUNG_CANCER')"
   ]
  },
  {
   "cell_type": "markdown",
   "id": "5b3ea963-98ca-428d-a2a7-4f0f72d9e73d",
   "metadata": {},
   "source": [
    "# Problem 5: Does peer pressure (PEER_PRESSURE) influence lung cancer? Perform a cross-tabulation of PEER_PRESSURE and LUNG_CANCER to explore this relationship."
   ]
  },
  {
   "cell_type": "code",
   "execution_count": 21,
   "id": "bfc069ed-2dd5-449b-be9c-43f10e22e34f",
   "metadata": {},
   "outputs": [
    {
     "data": {
      "text/html": [
       "<div>\n",
       "<style scoped>\n",
       "    .dataframe tbody tr th:only-of-type {\n",
       "        vertical-align: middle;\n",
       "    }\n",
       "\n",
       "    .dataframe tbody tr th {\n",
       "        vertical-align: top;\n",
       "    }\n",
       "\n",
       "    .dataframe thead th {\n",
       "        text-align: right;\n",
       "    }\n",
       "</style>\n",
       "<table border=\"1\" class=\"dataframe\">\n",
       "  <thead>\n",
       "    <tr style=\"text-align: right;\">\n",
       "      <th>LUNG_CANCER</th>\n",
       "      <th>NO</th>\n",
       "      <th>YES</th>\n",
       "    </tr>\n",
       "    <tr>\n",
       "      <th>PEER_PRESSURE</th>\n",
       "      <th></th>\n",
       "      <th></th>\n",
       "    </tr>\n",
       "  </thead>\n",
       "  <tbody>\n",
       "    <tr>\n",
       "      <th>No</th>\n",
       "      <td>724</td>\n",
       "      <td>779</td>\n",
       "    </tr>\n",
       "    <tr>\n",
       "      <th>Yes</th>\n",
       "      <td>758</td>\n",
       "      <td>739</td>\n",
       "    </tr>\n",
       "  </tbody>\n",
       "</table>\n",
       "</div>"
      ],
      "text/plain": [
       "LUNG_CANCER     NO  YES\n",
       "PEER_PRESSURE          \n",
       "No             724  779\n",
       "Yes            758  739"
      ]
     },
     "execution_count": 21,
     "metadata": {},
     "output_type": "execute_result"
    }
   ],
   "source": [
    "pd.crosstab(df['PEER_PRESSURE'],df['LUNG_CANCER'])"
   ]
  },
  {
   "cell_type": "markdown",
   "id": "2f72b9c0-4820-4f8f-9c6c-8d8aa0b34ebb",
   "metadata": {},
   "source": [
    "Insight from above:\n",
    "1. total 724 people which don't have lung cancer and peer pressure.\n",
    "2. total 779 people which have lung cancer but don't have peer pressure.\n",
    "3. total 758 people which have peer pressure but don't have lung cancer.\n",
    "4. total 739 people which have both lung cancer and peer pressure."
   ]
  },
  {
   "cell_type": "markdown",
   "id": "9996de39-cb8e-4a40-a6fe-290e8e159892",
   "metadata": {},
   "source": [
    "# Problem 6: Compare the occurrence of lung cancer between individuals with chronic diseases (CHRONIC_DISEASE) and those without. What does the data suggest?"
   ]
  },
  {
   "cell_type": "code",
   "execution_count": 22,
   "id": "8d60b82d-1c1f-46de-9d37-b545df36e563",
   "metadata": {},
   "outputs": [
    {
     "data": {
      "text/plain": [
       "<Axes: xlabel='CHRONIC_DISEASE', ylabel='count'>"
      ]
     },
     "execution_count": 22,
     "metadata": {},
     "output_type": "execute_result"
    },
    {
     "data": {
      "image/png": "[encoded data removed]",
      "text/plain": [
       "<Figure size 640x480 with 1 Axes>"
      ]
     },
     "metadata": {},
     "output_type": "display_data"
    }
   ],
   "source": [
    "sns.countplot(data=df,x = 'CHRONIC_DISEASE' , hue='LUNG_CANCER')"
   ]
  },
  {
   "cell_type": "markdown",
   "id": "5b280275-1323-40c0-8554-40552d48df1a",
   "metadata": {},
   "source": [
    "# Statistical Analysis"
   ]
  },
  {
   "cell_type": "markdown",
   "id": "a12d3095-b52b-48d8-b81d-b393e99d7bc0",
   "metadata": {},
   "source": [
    "# Problem 7: Calculate the mean and median age of individuals in the dataset. Are there any significant differences in age between individuals with lung cancer and those without?"
   ]
  },
  {
   "cell_type": "code",
   "execution_count": 23,
   "id": "85907848-fb88-46bd-a34a-168751b4468b",
   "metadata": {},
   "outputs": [
    {
     "data": {
      "text/plain": [
       "LUNG_CANCER\n",
       "NO     55.701080\n",
       "YES    54.649539\n",
       "Name: AGE, dtype: float64"
      ]
     },
     "execution_count": 23,
     "metadata": {},
     "output_type": "execute_result"
    }
   ],
   "source": [
    "df.groupby(['LUNG_CANCER'])['AGE'].mean()"
   ]
  },
  {
   "cell_type": "code",
   "execution_count": 24,
   "id": "33d49217-0e83-4621-90d8-797f3b68832a",
   "metadata": {},
   "outputs": [
    {
     "data": {
      "text/plain": [
       "LUNG_CANCER\n",
       "NO     56.0\n",
       "YES    54.0\n",
       "Name: AGE, dtype: float64"
      ]
     },
     "execution_count": 24,
     "metadata": {},
     "output_type": "execute_result"
    }
   ],
   "source": [
    "df.groupby(['LUNG_CANCER'])['AGE'].median()"
   ]
  },
  {
   "cell_type": "markdown",
   "id": "574b02fc-dc6e-48d0-a1c8-66c451b941ac",
   "metadata": {},
   "source": [
    "# Visualizing Data"
   ]
  },
  {
   "cell_type": "markdown",
   "id": "73988d5f-f334-4f62-834d-1aa388e193f9",
   "metadata": {},
   "source": [
    "# Problem 8: Create a box plot to visualize the distribution of age (AGE) for individuals with and without lung cancer. What do you observe about the age distribution?"
   ]
  },
  {
   "cell_type": "code",
   "execution_count": 25,
   "id": "0495cd15-9fb1-470a-b19c-e7dc3ee2ccb2",
   "metadata": {},
   "outputs": [
    {
     "data": {
      "text/plain": [
       "<Axes: xlabel='LUNG_CANCER', ylabel='AGE'>"
      ]
     },
     "execution_count": 25,
     "metadata": {},
     "output_type": "execute_result"
    },
    {
     "data": {
      "image/png": "[encoded data removed]",
      "text/plain": [
       "<Figure size 640x480 with 1 Axes>"
      ]
     },
     "metadata": {},
     "output_type": "display_data"
    }
   ],
   "source": [
    "sns.boxplot(data=df, y='AGE', x='LUNG_CANCER', palette=['green', 'red'], hue = 'LUNG_CANCER')"
   ]
  },
  {
   "cell_type": "markdown",
   "id": "185f73eb-97b8-4bad-9321-514cf320e1b2",
   "metadata": {},
   "source": [
    "# Problem 9: Visualize the distribution of alcohol consumption (ALCOHOL_CONSUMING) across lung cancer cases. Is there a noticeable difference between individuals who consume alcohol and those who do not?"
   ]
  },
  {
   "cell_type": "code",
   "execution_count": 33,
   "id": "ddaea400-fac7-40ad-a380-23fc25f27a2f",
   "metadata": {},
   "outputs": [
    {
     "data": {
      "text/plain": [
       "<Axes: xlabel='ALCOHOL_CONSUMING', ylabel='count'>"
      ]
     },
     "execution_count": 33,
     "metadata": {},
     "output_type": "execute_result"
    },
    {
     "data": {
      "image/png": "[encoded data removed]",
      "text/plain": [
       "<Figure size 640x480 with 1 Axes>"
      ]
     },
     "metadata": {},
     "output_type": "display_data"
    }
   ],
   "source": [
    "sns.countplot(data=df,x='ALCOHOL_CONSUMING',hue = 'LUNG_CANCER',palette=['red','orange'])"
   ]
  },
  {
   "cell_type": "code",
   "execution_count": 26,
   "id": "9c760ba7-5f46-4cde-b835-3a78b8645919",
   "metadata": {},
   "outputs": [
    {
     "data": {
      "text/plain": [
       "GENDER                   object\n",
       "AGE                       int64\n",
       "SMOKING                  object\n",
       "YELLOW_FINGERS           object\n",
       "ANXIETY                  object\n",
       "PEER_PRESSURE            object\n",
       "CHRONIC_DISEASE          object\n",
       "FATIGUE                  object\n",
       "ALLERGY                  object\n",
       "WHEEZING                 object\n",
       "ALCOHOL_CONSUMING        object\n",
       "COUGHING                 object\n",
       "SHORTNESS_OF_BREATH      object\n",
       "SWALLOWING_DIFFICULTY    object\n",
       "CHEST_PAIN               object\n",
       "LUNG_CANCER              object\n",
       "dtype: object"
      ]
     },
     "execution_count": 26,
     "metadata": {},
     "output_type": "execute_result"
    }
   ],
   "source": [
    "df.dtypes"
   ]
  },
  {
   "cell_type": "code",
   "execution_count": 36,
   "id": "919e167d-cc22-4f1c-85ac-630ddcef872f",
   "metadata": {},
   "outputs": [
    {
     "data": {
      "text/plain": [
       "<Axes: xlabel='AGE', ylabel='Count'>"
      ]
     },
     "execution_count": 36,
     "metadata": {},
     "output_type": "execute_result"
    },
    {
     "data": {
      "image/png": "[encoded data removed]",
      "text/plain": [
       "<Figure size 640x480 with 1 Axes>"
      ]
     },
     "metadata": {},
     "output_type": "display_data"
    }
   ],
   "source": [
    "sns.histplot(df.AGE,kde=True)"
   ]
  },
  {
   "cell_type": "code",
   "execution_count": 37,
   "id": "e5bd6347-9805-4add-9678-50abbae802c9",
   "metadata": {},
   "outputs": [
    {
     "data": {
      "text/plain": [
       "<Axes: xlabel='YELLOW_FINGERS', ylabel='count'>"
      ]
     },
     "execution_count": 37,
     "metadata": {},
     "output_type": "execute_result"
    },
    {
     "data": {
      "image/png": "[encoded data removed]",
      "text/plain": [
       "<Figure size 640x480 with 1 Axes>"
      ]
     },
     "metadata": {},
     "output_type": "display_data"
    }
   ],
   "source": [
    "sns.countplot(x='YELLOW_FINGERS',data=df,palette = 'dark')"
   ]
  },
  {
   "cell_type": "code",
   "execution_count": null,
   "id": "1b1ca45c-ff37-406f-a1ee-3b0b646db53c",
   "metadata": {},
   "outputs": [],
   "source": []
  }
 ],
 "metadata": {
  "kernelspec": {
   "display_name": "Python 3 (ipykernel)",
   "language": "python",
   "name": "python3"
  },
  "language_info": {
   "codemirror_mode": {
    "name": "ipython",
    "version": 3
   },
   "file_extension": ".py",
   "mimetype": "text/x-python",
   "name": "python",
   "nbconvert_exporter": "python",
   "pygments_lexer": "ipython3",
   "version": "3.11.9"
  }
 },
 "nbformat": 4,
 "nbformat_minor": 5
}
